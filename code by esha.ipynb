{
 "cells": [
  {
   "cell_type": "code",
   "execution_count": 2,
   "id": "cf98a592-8990-4430-af20-014d4b8fe2ac",
   "metadata": {},
   "outputs": [
    {
     "name": "stdout",
     "output_type": "stream",
     "text": [
      "eid mubarak\n"
     ]
    }
   ],
   "source": [
    "print (\"eid mubarak\")"
   ]
  },
  {
   "cell_type": "code",
   "execution_count": 3,
   "id": "d4e92032-acd0-4d99-9e3c-255e8a8bfde9",
   "metadata": {},
   "outputs": [
    {
     "name": "stdout",
     "output_type": "stream",
     "text": [
      "nano loves eshaa\n"
     ]
    }
   ],
   "source": [
    "print (\"nano loves eshaa\")"
   ]
  },
  {
   "cell_type": "code",
   "execution_count": null,
   "id": "8b050f1d-acf1-402b-8827-25d900ffdafa",
   "metadata": {},
   "outputs": [],
   "source": []
  }
 ],
 "metadata": {
  "kernelspec": {
   "display_name": "Python 3 (ipykernel)",
   "language": "python",
   "name": "python3"
  },
  "language_info": {
   "codemirror_mode": {
    "name": "ipython",
    "version": 3
   },
   "file_extension": ".py",
   "mimetype": "text/x-python",
   "name": "python",
   "nbconvert_exporter": "python",
   "pygments_lexer": "ipython3",
   "version": "3.12.7"
  }
 },
 "nbformat": 4,
 "nbformat_minor": 5
}
